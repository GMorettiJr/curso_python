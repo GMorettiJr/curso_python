{
  "cells": [
    {
      "cell_type": "markdown",
      "metadata": {
        "id": "view-in-github",
        "colab_type": "text"
      },
      "source": [
        "<a href=\"https://colab.research.google.com/github/GMorettiJr/curso_python/blob/main/oficina_codabr21.ipynb\" target=\"_parent\"><img src=\"https://colab.research.google.com/assets/colab-badge.svg\" alt=\"Open In Colab\"/></a>"
      ]
    },
    {
      "cell_type": "markdown",
      "metadata": {
        "id": "o3aw455X5MXf"
      },
      "source": [
        "# **Programação do zero a prática: Primeiros passos com Python** 🐍🎲🐼"
      ]
    },
    {
      "cell_type": "markdown",
      "metadata": {
        "id": "LSC0aDZy52SM"
      },
      "source": [
        "## Notebooks 💻"
      ]
    },
    {
      "cell_type": "markdown",
      "metadata": {
        "id": "Pknz2Rup56p2"
      },
      "source": [
        "\n",
        "\n",
        "*   O que são\n",
        "*   Como funcionam\n",
        "*   Mini tour pelos principais lugares\n",
        "*   Erros comuns:\n",
        "  *  Congelar a célula\n",
        "  *  Erro na célula\n",
        "\n"
      ]
    },
    {
      "cell_type": "markdown",
      "metadata": {
        "id": "PeH8HQvT2SuR"
      },
      "source": [
        "## Python, bem basiquinho 🐍"
      ]
    },
    {
      "cell_type": "markdown",
      "metadata": {
        "id": "AKh7duJomW_D"
      },
      "source": [
        "### Agenda"
      ]
    },
    {
      "cell_type": "markdown",
      "metadata": {
        "id": "6_sfJ0dH6fOL"
      },
      "source": [
        "*    O que é o Python\n",
        "*    Comentários\n",
        "*    Import\n",
        "  *  Zen do Python\n",
        "*    Tipos de dados\n",
        "  *  Type\n",
        "  *  String\n",
        "      *  Funções\n",
        "  *  Números\n",
        "  *  Booleanos\n",
        "*    Variável\n",
        "*    Método\n",
        "*    Função Print\n",
        "* Coleção de dados\n",
        "  *  Listas\n",
        "  * Dicionários\n",
        "* For\n",
        "* If e Else\n",
        "\n",
        "\n",
        "\n"
      ]
    },
    {
      "cell_type": "markdown",
      "metadata": {
        "id": "HLeQ3P_2mfQ5"
      },
      "source": [
        "### Import"
      ]
    },
    {
      "cell_type": "code",
      "execution_count": 1,
      "metadata": {
        "id": "l7SKQx7Y2qj2",
        "outputId": "efa6fe2e-8709-430e-85d6-af8047368e0a",
        "colab": {
          "base_uri": "https://localhost:8080/"
        }
      },
      "outputs": [
        {
          "output_type": "stream",
          "name": "stdout",
          "text": [
            "The Zen of Python, by Tim Peters\n",
            "\n",
            "Beautiful is better than ugly.\n",
            "Explicit is better than implicit.\n",
            "Simple is better than complex.\n",
            "Complex is better than complicated.\n",
            "Flat is better than nested.\n",
            "Sparse is better than dense.\n",
            "Readability counts.\n",
            "Special cases aren't special enough to break the rules.\n",
            "Although practicality beats purity.\n",
            "Errors should never pass silently.\n",
            "Unless explicitly silenced.\n",
            "In the face of ambiguity, refuse the temptation to guess.\n",
            "There should be one-- and preferably only one --obvious way to do it.\n",
            "Although that way may not be obvious at first unless you're Dutch.\n",
            "Now is better than never.\n",
            "Although never is often better than *right* now.\n",
            "If the implementation is hard to explain, it's a bad idea.\n",
            "If the implementation is easy to explain, it may be a good idea.\n",
            "Namespaces are one honking great idea -- let's do more of those!\n"
          ]
        }
      ],
      "source": [
        "#Zen do Python\n",
        "import this"
      ]
    },
    {
      "cell_type": "markdown",
      "metadata": {
        "id": "q9HwlFviQFg3"
      },
      "source": [
        "### String"
      ]
    },
    {
      "cell_type": "code",
      "execution_count": 2,
      "metadata": {
        "id": "qJhRi0tCQX_8",
        "outputId": "ed01ad21-7d28-4a79-d06d-02229b798db3",
        "colab": {
          "base_uri": "https://localhost:8080/",
          "height": 35
        }
      },
      "outputs": [
        {
          "output_type": "execute_result",
          "data": {
            "text/plain": [
              "'Olá Mundo'"
            ],
            "application/vnd.google.colaboratory.intrinsic+json": {
              "type": "string"
            }
          },
          "metadata": {},
          "execution_count": 2
        }
      ],
      "source": [
        "'Olá Mundo'"
      ]
    },
    {
      "cell_type": "code",
      "execution_count": 3,
      "metadata": {
        "id": "rJVt-fYuQdpk",
        "outputId": "2cce85ec-048c-4334-f55b-e25cdaaeb1b5",
        "colab": {
          "base_uri": "https://localhost:8080/",
          "height": 35
        }
      },
      "outputs": [
        {
          "output_type": "execute_result",
          "data": {
            "text/plain": [
              "'Olá, pessoal!'"
            ],
            "application/vnd.google.colaboratory.intrinsic+json": {
              "type": "string"
            }
          },
          "metadata": {},
          "execution_count": 3
        }
      ],
      "source": [
        "\"Olá, pessoal!\""
      ]
    },
    {
      "cell_type": "code",
      "execution_count": 4,
      "metadata": {
        "id": "M3zmmQNVSMJF",
        "outputId": "55f387f0-6126-4d40-f7ec-96a35ff50bb3",
        "colab": {
          "base_uri": "https://localhost:8080/",
          "height": 35
        }
      },
      "outputs": [
        {
          "output_type": "execute_result",
          "data": {
            "text/plain": [
              "'Quinta-Feira'"
            ],
            "application/vnd.google.colaboratory.intrinsic+json": {
              "type": "string"
            }
          },
          "metadata": {},
          "execution_count": 4
        }
      ],
      "source": [
        "'Quinta'+'-'+'Feira'"
      ]
    },
    {
      "cell_type": "code",
      "execution_count": 5,
      "metadata": {
        "id": "NfJXHnGRQ4_W",
        "outputId": "d2d6770e-e31b-42a9-89c4-df549f266320",
        "colab": {
          "base_uri": "https://localhost:8080/"
        }
      },
      "outputs": [
        {
          "output_type": "execute_result",
          "data": {
            "text/plain": [
              "str"
            ]
          },
          "metadata": {},
          "execution_count": 5
        }
      ],
      "source": [
        "type('Oie')"
      ]
    },
    {
      "cell_type": "code",
      "execution_count": null,
      "metadata": {
        "id": "dJSFtgMsSdgF"
      },
      "outputs": [],
      "source": [
        "#Qual a diferença?\n",
        "#2+3 / '2'+'3'"
      ]
    },
    {
      "cell_type": "markdown",
      "metadata": {
        "id": "SnVrJqd7QWuw"
      },
      "source": [
        "### Números"
      ]
    },
    {
      "cell_type": "code",
      "execution_count": 6,
      "metadata": {
        "id": "nsEzGSFiR-LS",
        "outputId": "bd3a2588-a94c-4a9c-fbfb-260922366272",
        "colab": {
          "base_uri": "https://localhost:8080/"
        }
      },
      "outputs": [
        {
          "output_type": "execute_result",
          "data": {
            "text/plain": [
              "int"
            ]
          },
          "metadata": {},
          "execution_count": 6
        }
      ],
      "source": [
        "#Inteiros\n",
        "type(21)"
      ]
    },
    {
      "cell_type": "code",
      "execution_count": 7,
      "metadata": {
        "id": "wHLUI1B9W-t6",
        "outputId": "e2513d9a-aa81-4c7a-d925-872e203e30d7",
        "colab": {
          "base_uri": "https://localhost:8080/"
        }
      },
      "outputs": [
        {
          "output_type": "execute_result",
          "data": {
            "text/plain": [
              "float"
            ]
          },
          "metadata": {},
          "execution_count": 7
        }
      ],
      "source": [
        "type(21.2)"
      ]
    },
    {
      "cell_type": "markdown",
      "metadata": {
        "id": "jPJEVHVgXZOa"
      },
      "source": [
        "**Operações matemáticas**"
      ]
    },
    {
      "cell_type": "code",
      "execution_count": 8,
      "metadata": {
        "id": "o6RSlfBtXFJl",
        "outputId": "cb109799-1638-4964-872e-47f406061945",
        "colab": {
          "base_uri": "https://localhost:8080/"
        }
      },
      "outputs": [
        {
          "output_type": "execute_result",
          "data": {
            "text/plain": [
              "4"
            ]
          },
          "metadata": {},
          "execution_count": 8
        }
      ],
      "source": [
        "#Soma\n",
        "2 + 2"
      ]
    },
    {
      "cell_type": "code",
      "execution_count": null,
      "metadata": {
        "id": "GNuSronLXidb"
      },
      "outputs": [],
      "source": [
        "#Subtração\n",
        "#2-2"
      ]
    },
    {
      "cell_type": "code",
      "execution_count": 11,
      "metadata": {
        "id": "DjxtY33_XpsS",
        "outputId": "618c7058-4de7-463f-8e7e-c00f7b1e0511",
        "colab": {
          "base_uri": "https://localhost:8080/"
        }
      },
      "outputs": [
        {
          "output_type": "execute_result",
          "data": {
            "text/plain": [
              "1.0"
            ]
          },
          "metadata": {},
          "execution_count": 11
        }
      ],
      "source": [
        "#Divisão\n",
        "2/2"
      ]
    },
    {
      "cell_type": "code",
      "execution_count": 10,
      "metadata": {
        "id": "HjsSnH6HX2-N",
        "outputId": "6ed8343c-afe5-43e4-ebe6-bdb58d304213",
        "colab": {
          "base_uri": "https://localhost:8080/"
        }
      },
      "outputs": [
        {
          "output_type": "execute_result",
          "data": {
            "text/plain": [
              "4"
            ]
          },
          "metadata": {},
          "execution_count": 10
        }
      ],
      "source": [
        "#Multiplicação\n",
        "2*2"
      ]
    },
    {
      "cell_type": "code",
      "execution_count": 9,
      "metadata": {
        "id": "TYQHlWb-X-k9",
        "outputId": "6ebcb98f-c087-4288-b599-4396363c3987",
        "colab": {
          "base_uri": "https://localhost:8080/"
        }
      },
      "outputs": [
        {
          "output_type": "execute_result",
          "data": {
            "text/plain": [
              "4"
            ]
          },
          "metadata": {},
          "execution_count": 9
        }
      ],
      "source": [
        "#Potência\n",
        "2**2"
      ]
    },
    {
      "cell_type": "code",
      "execution_count": 12,
      "metadata": {
        "id": "I0Lysd_tYLyx",
        "outputId": "f0b85c04-1f0c-4130-d303-b5c61c794a45",
        "colab": {
          "base_uri": "https://localhost:8080/"
        }
      },
      "outputs": [
        {
          "output_type": "execute_result",
          "data": {
            "text/plain": [
              "4.0"
            ]
          },
          "metadata": {},
          "execution_count": 12
        }
      ],
      "source": [
        "#Qual o resultado?\n",
        "2+(4/2)"
      ]
    },
    {
      "cell_type": "markdown",
      "metadata": {
        "id": "lM6AMQZlY_Q9"
      },
      "source": [
        "### Booleano"
      ]
    },
    {
      "cell_type": "code",
      "execution_count": 13,
      "metadata": {
        "id": "qPNS9hNXZERE",
        "outputId": "f0faeca9-01cb-4f94-f8c5-50af7b6b5d23",
        "colab": {
          "base_uri": "https://localhost:8080/"
        }
      },
      "outputs": [
        {
          "output_type": "execute_result",
          "data": {
            "text/plain": [
              "bool"
            ]
          },
          "metadata": {},
          "execution_count": 13
        }
      ],
      "source": [
        "type(False)"
      ]
    },
    {
      "cell_type": "code",
      "execution_count": 14,
      "metadata": {
        "id": "G88_f0ICZUub",
        "outputId": "25ba66e8-42e1-402d-a720-c51782db5471",
        "colab": {
          "base_uri": "https://localhost:8080/"
        }
      },
      "outputs": [
        {
          "output_type": "execute_result",
          "data": {
            "text/plain": [
              "bool"
            ]
          },
          "metadata": {},
          "execution_count": 14
        }
      ],
      "source": [
        "type(True)"
      ]
    },
    {
      "cell_type": "markdown",
      "metadata": {
        "id": "gZR98mv7bn9z"
      },
      "source": [
        "### Variáveis"
      ]
    },
    {
      "cell_type": "code",
      "execution_count": 17,
      "metadata": {
        "id": "DKJ6WTF-bvUQ",
        "outputId": "7df12e52-e4d1-499e-e8a5-d4189709b5cd",
        "colab": {
          "base_uri": "https://localhost:8080/"
        }
      },
      "outputs": [
        {
          "output_type": "execute_result",
          "data": {
            "text/plain": [
              "35"
            ]
          },
          "metadata": {},
          "execution_count": 17
        }
      ],
      "source": [
        "numero = 35\n",
        "numero"
      ]
    },
    {
      "cell_type": "markdown",
      "metadata": {
        "id": "7jfB1jfaZgVb"
      },
      "source": [
        "**Operadores lógicos**"
      ]
    },
    {
      "cell_type": "code",
      "execution_count": 19,
      "metadata": {
        "id": "yWKjui3CcU7S",
        "outputId": "45d4d5ce-d376-4ecd-d60e-0854a3901bda",
        "colab": {
          "base_uri": "https://localhost:8080/"
        }
      },
      "outputs": [
        {
          "output_type": "execute_result",
          "data": {
            "text/plain": [
              "False"
            ]
          },
          "metadata": {},
          "execution_count": 19
        }
      ],
      "source": [
        "#Comparação\n",
        "numero == 34"
      ]
    },
    {
      "cell_type": "code",
      "execution_count": 20,
      "metadata": {
        "id": "jXsexwB6dSNz",
        "outputId": "516ab573-11fc-460c-9534-a87cd592025e",
        "colab": {
          "base_uri": "https://localhost:8080/"
        }
      },
      "outputs": [
        {
          "output_type": "execute_result",
          "data": {
            "text/plain": [
              "True"
            ]
          },
          "metadata": {},
          "execution_count": 20
        }
      ],
      "source": [
        "#Diferente\n",
        "numero != 15"
      ]
    },
    {
      "cell_type": "code",
      "execution_count": 21,
      "metadata": {
        "id": "F2zOSRH3Zfrs",
        "outputId": "bf9aed24-a0b7-40d8-9f6c-73aed8e7f1da",
        "colab": {
          "base_uri": "https://localhost:8080/"
        }
      },
      "outputs": [
        {
          "output_type": "execute_result",
          "data": {
            "text/plain": [
              "False"
            ]
          },
          "metadata": {},
          "execution_count": 21
        }
      ],
      "source": [
        "#Maior que\n",
        "2 > 4"
      ]
    },
    {
      "cell_type": "code",
      "execution_count": 22,
      "metadata": {
        "id": "nURbtZWXZqlM",
        "outputId": "c904ea81-9218-4459-f39b-ae7ffa29c6fe",
        "colab": {
          "base_uri": "https://localhost:8080/"
        }
      },
      "outputs": [
        {
          "output_type": "execute_result",
          "data": {
            "text/plain": [
              "True"
            ]
          },
          "metadata": {},
          "execution_count": 22
        }
      ],
      "source": [
        "#Menor que\n",
        "2 < 4"
      ]
    },
    {
      "cell_type": "code",
      "execution_count": 23,
      "metadata": {
        "id": "ym9Mp5ULbM6z",
        "outputId": "052917fc-8a45-49d8-f623-221cd54b9fb0",
        "colab": {
          "base_uri": "https://localhost:8080/"
        }
      },
      "outputs": [
        {
          "output_type": "execute_result",
          "data": {
            "text/plain": [
              "True"
            ]
          },
          "metadata": {},
          "execution_count": 23
        }
      ],
      "source": [
        "#Maior igual\n",
        "numero >= 8"
      ]
    },
    {
      "cell_type": "code",
      "execution_count": 24,
      "metadata": {
        "id": "qOUidzyXbhyn",
        "outputId": "5a15a118-3571-4a33-b3f5-0ec20e4f0558",
        "colab": {
          "base_uri": "https://localhost:8080/"
        }
      },
      "outputs": [
        {
          "output_type": "execute_result",
          "data": {
            "text/plain": [
              "True"
            ]
          },
          "metadata": {},
          "execution_count": 24
        }
      ],
      "source": [
        "#Menor igual\n",
        "numero <= 100"
      ]
    },
    {
      "cell_type": "markdown",
      "metadata": {
        "id": "o2NEBmkGebuN"
      },
      "source": [
        "### Métodos"
      ]
    },
    {
      "cell_type": "code",
      "execution_count": 26,
      "metadata": {
        "id": "d3_H30ykfVYT",
        "outputId": "e7aa186d-9d23-4f99-bf9e-f85ea94853de",
        "colab": {
          "base_uri": "https://localhost:8080/",
          "height": 35
        }
      },
      "outputs": [
        {
          "output_type": "execute_result",
          "data": {
            "text/plain": [
              "'banana'"
            ],
            "application/vnd.google.colaboratory.intrinsic+json": {
              "type": "string"
            }
          },
          "metadata": {},
          "execution_count": 26
        }
      ],
      "source": [
        "minha_fruta =  'banana'\n",
        "minha_fruta"
      ]
    },
    {
      "cell_type": "code",
      "execution_count": 27,
      "metadata": {
        "id": "p9S85QiNfvFU",
        "outputId": "5fd40e1f-b385-48a3-cda9-a214f7adec11",
        "colab": {
          "base_uri": "https://localhost:8080/",
          "height": 35
        }
      },
      "outputs": [
        {
          "output_type": "execute_result",
          "data": {
            "text/plain": [
              "'BANANA'"
            ],
            "application/vnd.google.colaboratory.intrinsic+json": {
              "type": "string"
            }
          },
          "metadata": {},
          "execution_count": 27
        }
      ],
      "source": [
        "minha_fruta.upper()"
      ]
    },
    {
      "cell_type": "code",
      "execution_count": 28,
      "metadata": {
        "id": "XeRr27rKf21q",
        "outputId": "ce6db5dc-4fd3-496e-dbf1-cb90e0b053e3",
        "colab": {
          "base_uri": "https://localhost:8080/",
          "height": 35
        }
      },
      "outputs": [
        {
          "output_type": "execute_result",
          "data": {
            "text/plain": [
              "'banana'"
            ],
            "application/vnd.google.colaboratory.intrinsic+json": {
              "type": "string"
            }
          },
          "metadata": {},
          "execution_count": 28
        }
      ],
      "source": [
        "minha_fruta.lower()"
      ]
    },
    {
      "cell_type": "code",
      "execution_count": 29,
      "metadata": {
        "id": "jRagsc0xgNal",
        "outputId": "3c08b108-3ad4-476d-ec84-1edae431289e",
        "colab": {
          "base_uri": "https://localhost:8080/"
        }
      },
      "outputs": [
        {
          "output_type": "execute_result",
          "data": {
            "text/plain": [
              "3"
            ]
          },
          "metadata": {},
          "execution_count": 29
        }
      ],
      "source": [
        "minha_fruta.count('a')"
      ]
    },
    {
      "cell_type": "code",
      "execution_count": 31,
      "metadata": {
        "colab": {
          "base_uri": "https://localhost:8080/",
          "height": 35
        },
        "id": "rDLhJB5YhQbM",
        "outputId": "5f34754d-5cbd-416a-e823-64494350677c"
      },
      "outputs": [
        {
          "output_type": "execute_result",
          "data": {
            "text/plain": [
              "'água de coco'"
            ],
            "application/vnd.google.colaboratory.intrinsic+json": {
              "type": "string"
            }
          },
          "metadata": {},
          "execution_count": 31
        }
      ],
      "source": [
        "bebida = 'água de coco'\n",
        "bebida"
      ]
    },
    {
      "cell_type": "code",
      "execution_count": 32,
      "metadata": {
        "colab": {
          "base_uri": "https://localhost:8080/"
        },
        "id": "7_5n3qS9hiG0",
        "outputId": "754dce68-9479-4558-a408-a3638d086a30"
      },
      "outputs": [
        {
          "output_type": "execute_result",
          "data": {
            "text/plain": [
              "['água', 'de', 'coco']"
            ]
          },
          "metadata": {},
          "execution_count": 32
        }
      ],
      "source": [
        "#Separar\n",
        "bebida.split()"
      ]
    },
    {
      "cell_type": "code",
      "execution_count": 33,
      "metadata": {
        "id": "BUooZvyyhrDl",
        "outputId": "cdc38e1d-b78e-4945-a644-9b46d85e5770",
        "colab": {
          "base_uri": "https://localhost:8080/"
        }
      },
      "outputs": [
        {
          "output_type": "execute_result",
          "data": {
            "text/plain": [
              "['ÁGUA', 'DE', 'COCO']"
            ]
          },
          "metadata": {},
          "execution_count": 33
        }
      ],
      "source": [
        "#Métodos encandeados\n",
        "bebida.upper().split()"
      ]
    },
    {
      "cell_type": "code",
      "execution_count": 34,
      "metadata": {
        "id": "YJxZUz_OikVk",
        "outputId": "1394bca4-518c-460d-ea85-107df6821ce8",
        "colab": {
          "base_uri": "https://localhost:8080/"
        }
      },
      "outputs": [
        {
          "output_type": "execute_result",
          "data": {
            "text/plain": [
              "['ÁGUA', 'DE', 'COCO']"
            ]
          },
          "metadata": {},
          "execution_count": 34
        }
      ],
      "source": [
        "#Mudanças na String\n",
        "bebida_grande = bebida.upper().split()\n",
        "bebida_grande"
      ]
    },
    {
      "cell_type": "markdown",
      "metadata": {
        "id": "AlWV8GmCjCnf"
      },
      "source": [
        "### Print"
      ]
    },
    {
      "cell_type": "code",
      "execution_count": 35,
      "metadata": {
        "id": "lcZ1NohJjFzE",
        "outputId": "44de6641-c863-4333-f4eb-71ec3d4d3368",
        "colab": {
          "base_uri": "https://localhost:8080/"
        }
      },
      "outputs": [
        {
          "output_type": "stream",
          "name": "stdout",
          "text": [
            "bom dia\n"
          ]
        }
      ],
      "source": [
        "print('bom dia')"
      ]
    },
    {
      "cell_type": "code",
      "execution_count": 36,
      "metadata": {
        "id": "MVjRSuGljURo"
      },
      "outputs": [],
      "source": [
        "evento = 'Coda'"
      ]
    },
    {
      "cell_type": "code",
      "execution_count": 37,
      "metadata": {
        "id": "bwPdT2R8lkui",
        "outputId": "76d51552-762a-4007-e397-e9b08e565508",
        "colab": {
          "base_uri": "https://localhost:8080/"
        }
      },
      "outputs": [
        {
          "output_type": "stream",
          "name": "stdout",
          "text": [
            "bom dia, Coda\n"
          ]
        }
      ],
      "source": [
        "print(f'bom dia, {evento}')"
      ]
    },
    {
      "cell_type": "markdown",
      "metadata": {
        "id": "VO4-8HRAsJOB"
      },
      "source": [
        "###Listas"
      ]
    },
    {
      "cell_type": "code",
      "execution_count": 39,
      "metadata": {
        "id": "jMoT_D-0sOIX",
        "outputId": "bc37eeb8-a631-4c68-b069-36e3268815a4",
        "colab": {
          "base_uri": "https://localhost:8080/"
        }
      },
      "outputs": [
        {
          "output_type": "execute_result",
          "data": {
            "text/plain": [
              "['pera', 'uva', 'maçã', 'laranja']"
            ]
          },
          "metadata": {},
          "execution_count": 39
        }
      ],
      "source": [
        "frutas = ['pera', 'uva', 'maçã','laranja']\n",
        "frutas"
      ]
    },
    {
      "cell_type": "code",
      "execution_count": 40,
      "metadata": {
        "id": "hEIy0voYskSz",
        "outputId": "93336dcf-c3c0-4166-b3fe-3c2064c2e6f8",
        "colab": {
          "base_uri": "https://localhost:8080/",
          "height": 35
        }
      },
      "outputs": [
        {
          "output_type": "execute_result",
          "data": {
            "text/plain": [
              "'maçã'"
            ],
            "application/vnd.google.colaboratory.intrinsic+json": {
              "type": "string"
            }
          },
          "metadata": {},
          "execution_count": 40
        }
      ],
      "source": [
        "#Pegar o segundo elemento\n",
        "frutas[2]"
      ]
    },
    {
      "cell_type": "code",
      "execution_count": 41,
      "metadata": {
        "id": "liMHYxC0ss9Q",
        "outputId": "9f0d5825-0748-49d5-9d16-088f165a7ea5",
        "colab": {
          "base_uri": "https://localhost:8080/",
          "height": 35
        }
      },
      "outputs": [
        {
          "output_type": "execute_result",
          "data": {
            "text/plain": [
              "'laranja'"
            ],
            "application/vnd.google.colaboratory.intrinsic+json": {
              "type": "string"
            }
          },
          "metadata": {},
          "execution_count": 41
        }
      ],
      "source": [
        "#Pegar o último elemento\n",
        "frutas[-1]"
      ]
    },
    {
      "cell_type": "markdown",
      "metadata": {
        "id": "raHCbb2vuzkC"
      },
      "source": [
        "**Fatiamento de listas**"
      ]
    },
    {
      "cell_type": "code",
      "execution_count": 42,
      "metadata": {
        "id": "o9WJJ5kZs18X",
        "outputId": "8c2dd3ea-a161-4b9b-8205-4fec0e25eb33",
        "colab": {
          "base_uri": "https://localhost:8080/"
        }
      },
      "outputs": [
        {
          "output_type": "execute_result",
          "data": {
            "text/plain": [
              "['pera', 'uva']"
            ]
          },
          "metadata": {},
          "execution_count": 42
        }
      ],
      "source": [
        "frutas[0:2]"
      ]
    },
    {
      "cell_type": "code",
      "execution_count": 43,
      "metadata": {
        "id": "M4ncQU9ftIkz",
        "outputId": "cc4d3b27-eab1-4949-94b9-a07f48589762",
        "colab": {
          "base_uri": "https://localhost:8080/"
        }
      },
      "outputs": [
        {
          "output_type": "execute_result",
          "data": {
            "text/plain": [
              "['pera']"
            ]
          },
          "metadata": {},
          "execution_count": 43
        }
      ],
      "source": [
        "frutas[:1]"
      ]
    },
    {
      "cell_type": "code",
      "execution_count": 44,
      "metadata": {
        "id": "pzXVu8actZ5G",
        "outputId": "8342a0cc-df24-49bd-c89e-c2b07ec8ec8d",
        "colab": {
          "base_uri": "https://localhost:8080/"
        }
      },
      "outputs": [
        {
          "output_type": "execute_result",
          "data": {
            "text/plain": [
              "['laranja']"
            ]
          },
          "metadata": {},
          "execution_count": 44
        }
      ],
      "source": [
        "frutas[3:]"
      ]
    },
    {
      "cell_type": "code",
      "execution_count": 45,
      "metadata": {
        "id": "_wOCunk5tsSs",
        "outputId": "aad33045-3fbe-4b84-d71c-724fda0f0bfe",
        "colab": {
          "base_uri": "https://localhost:8080/"
        }
      },
      "outputs": [
        {
          "output_type": "execute_result",
          "data": {
            "text/plain": [
              "4"
            ]
          },
          "metadata": {},
          "execution_count": 45
        }
      ],
      "source": [
        "#Tamanho de uma lista\n",
        "len(frutas)"
      ]
    },
    {
      "cell_type": "code",
      "execution_count": 58,
      "metadata": {
        "id": "0z1i5oLUtwhn",
        "outputId": "63db380f-7627-4952-e6aa-a946cea7bd77",
        "colab": {
          "base_uri": "https://localhost:8080/"
        }
      },
      "outputs": [
        {
          "output_type": "execute_result",
          "data": {
            "text/plain": [
              "['pera', 'uva', 'maçã', 'melancia', 'laranja', 'laranja']"
            ]
          },
          "metadata": {},
          "execution_count": 58
        }
      ],
      "source": [
        "#Incluir um item\n",
        "frutas.append('laranja')\n",
        "frutas"
      ]
    },
    {
      "cell_type": "code",
      "execution_count": 59,
      "metadata": {
        "id": "JaarEYrkt08f",
        "outputId": "6923e9af-bf0c-4407-c397-48967d6ac3c2",
        "colab": {
          "base_uri": "https://localhost:8080/",
          "height": 35
        }
      },
      "outputs": [
        {
          "output_type": "execute_result",
          "data": {
            "text/plain": [
              "'laranja'"
            ],
            "application/vnd.google.colaboratory.intrinsic+json": {
              "type": "string"
            }
          },
          "metadata": {},
          "execution_count": 59
        }
      ],
      "source": [
        "#Excluir um item\n",
        "frutas.pop()\n"
      ]
    },
    {
      "cell_type": "markdown",
      "metadata": {
        "id": "je3NQKdRxlWD"
      },
      "source": [
        "###Dicionário"
      ]
    },
    {
      "cell_type": "code",
      "execution_count": null,
      "metadata": {
        "id": "Z9DRA3uZt_33"
      },
      "outputs": [],
      "source": [
        "salada_de_frutas = {'ingredientes': frutas,\n",
        "                    'preparo':'corte tudo e misture',\n",
        "                    'tempo':60\n",
        "                    }\n"
      ]
    },
    {
      "cell_type": "code",
      "execution_count": null,
      "metadata": {
        "id": "czfbnt0nyZfz"
      },
      "outputs": [],
      "source": [
        "#pegar um item\n",
        "#salada_de_frutas['ingredientes']"
      ]
    },
    {
      "cell_type": "code",
      "execution_count": null,
      "metadata": {
        "id": "jJWLs4WnypPo"
      },
      "outputs": [],
      "source": [
        "#adicionar item\n",
        "#salada_de_frutas['porções'] = 7"
      ]
    },
    {
      "cell_type": "code",
      "execution_count": null,
      "metadata": {
        "id": "aw06ygBsyvqm"
      },
      "outputs": [],
      "source": [
        "#excluir item\n",
        "del salada_de_frutas['tempo']"
      ]
    },
    {
      "cell_type": "markdown",
      "metadata": {
        "id": "WCSgJGvdzbPY"
      },
      "source": [
        "### Estrutura de repetição `For`"
      ]
    },
    {
      "cell_type": "code",
      "execution_count": null,
      "metadata": {
        "id": "4FdRAfc51jLo"
      },
      "outputs": [],
      "source": [
        "#iterando em listas\n",
        "for fruta in frutas:\n",
        "  print(fruta)"
      ]
    },
    {
      "cell_type": "code",
      "execution_count": null,
      "metadata": {
        "id": "-A5IbDK_3BOp"
      },
      "outputs": [],
      "source": [
        "#Pegar as chaves do dicionário\n",
        "for chave in salada_de_frutas:\n",
        "  print(chave)"
      ]
    },
    {
      "cell_type": "code",
      "execution_count": null,
      "metadata": {
        "id": "bkyqGJu43fDP"
      },
      "outputs": [],
      "source": [
        "#Pegar valor das chaves no dicionário\n",
        "for chave in salada_de_frutas:\n",
        "  print(salada_de_frutas[chave])"
      ]
    },
    {
      "cell_type": "code",
      "execution_count": null,
      "metadata": {
        "id": "QH_itNsA2Kh6"
      },
      "outputs": [],
      "source": [
        "#Iterando em elementos de uma string\n",
        "for letra in evento:\n",
        "  print(letra)"
      ]
    },
    {
      "cell_type": "markdown",
      "metadata": {
        "id": "F1o4dtZR2F9I"
      },
      "source": [
        "### Estrutura condicional `if`"
      ]
    },
    {
      "cell_type": "code",
      "execution_count": null,
      "metadata": {
        "id": "1TOsBM274-7r"
      },
      "outputs": [],
      "source": [
        "if 4 > 3:\n",
        "  print('É maior sim!')"
      ]
    },
    {
      "cell_type": "code",
      "execution_count": null,
      "metadata": {
        "id": "qn0aSzyM5MpV"
      },
      "outputs": [],
      "source": [
        "if 4 >= 7:\n",
        "  print('É maior sim!')\n",
        "else:\n",
        "  print('Claro que não!')"
      ]
    },
    {
      "cell_type": "code",
      "execution_count": null,
      "metadata": {
        "id": "rDKJHAMb5fXq"
      },
      "outputs": [],
      "source": [
        "idade = 21\n",
        "\n",
        "if idade > 30:\n",
        "  print('Sou adulto')\n",
        "elif idade > 19 & idade <= 30:\n",
        "  print('sou jovem')\n",
        "else:\n",
        "  print('sou adolas')\n",
        "\n"
      ]
    },
    {
      "cell_type": "markdown",
      "metadata": {
        "id": "xo7NFdsf0Id5"
      },
      "source": [
        "## Pandas 🐼🎲"
      ]
    },
    {
      "cell_type": "markdown",
      "metadata": {
        "id": "uTpW1Kil0Vlf"
      },
      "source": [
        "*  Importar o pandas\n",
        "*  Carga de dados\n",
        "*  Detalhando os dados\n",
        "*  Organizando os dados\n",
        "*  Filtrando os dados\n",
        "*  Agrupando e agregando\n",
        "*  Exportando"
      ]
    },
    {
      "cell_type": "markdown",
      "metadata": {
        "id": "wR2nJ5Rj7PpM"
      },
      "source": [
        "### Importar a `Biblioteca`"
      ]
    },
    {
      "cell_type": "code",
      "execution_count": null,
      "metadata": {
        "id": "rWDNuStL41Te"
      },
      "outputs": [],
      "source": [
        "import pandas as pd"
      ]
    },
    {
      "cell_type": "markdown",
      "metadata": {
        "id": "87TxFyGU7Zm1"
      },
      "source": [
        "### Carga de dados"
      ]
    },
    {
      "cell_type": "code",
      "execution_count": null,
      "metadata": {
        "id": "n36diWCK43nk"
      },
      "outputs": [],
      "source": [
        "df_empresas = pd.read_csv('https://raw.githubusercontent.com/anicelysantos/oficina-codabr21/main/empresas_trabalho_escravo.csv')"
      ]
    },
    {
      "cell_type": "markdown",
      "metadata": {
        "id": "tkqPwgdO9mmX"
      },
      "source": [
        "### Detalhando os dados"
      ]
    },
    {
      "cell_type": "code",
      "execution_count": null,
      "metadata": {
        "id": "2lFuqije9lGb"
      },
      "outputs": [],
      "source": [
        "df_empresas.head(10)"
      ]
    },
    {
      "cell_type": "code",
      "execution_count": null,
      "metadata": {
        "id": "HcVqxZaO9vwB"
      },
      "outputs": [],
      "source": [
        "df_empresas.sample(3)"
      ]
    },
    {
      "cell_type": "code",
      "execution_count": null,
      "metadata": {
        "id": "P8MBZ68J915b"
      },
      "outputs": [],
      "source": [
        "df_empresas.tail(3)"
      ]
    },
    {
      "cell_type": "code",
      "execution_count": null,
      "metadata": {
        "id": "-hHkp0ba-Fsi"
      },
      "outputs": [],
      "source": [
        "#resumo estatístico\n",
        "df_empresas.describe()"
      ]
    },
    {
      "cell_type": "code",
      "execution_count": null,
      "metadata": {
        "id": "Y0Dszx3m-RjJ"
      },
      "outputs": [],
      "source": [
        "#Quantidade de linhas e colunas\n",
        "df_empresas.shape"
      ]
    },
    {
      "cell_type": "code",
      "execution_count": null,
      "metadata": {
        "id": "9EBTXADx-nZb"
      },
      "outputs": [],
      "source": [
        "#Nome das colunas e tipos de dados\n",
        "df_empresas.dtypes"
      ]
    },
    {
      "cell_type": "code",
      "execution_count": null,
      "metadata": {
        "id": "SN5JhRCV-1QY"
      },
      "outputs": [],
      "source": [
        "#Nome das colunas\n",
        "df_empresas.columns"
      ]
    },
    {
      "cell_type": "markdown",
      "metadata": {
        "id": "yfOIgKuT0zea"
      },
      "source": [
        "### Organizando os dados"
      ]
    },
    {
      "cell_type": "code",
      "execution_count": null,
      "metadata": {
        "id": "-NlClOYp04bF"
      },
      "outputs": [],
      "source": [
        "#Ordena os dados\n",
        "df_empresas.sort_values('UF')"
      ]
    },
    {
      "cell_type": "code",
      "execution_count": null,
      "metadata": {
        "id": "3SL5N9f11c_t"
      },
      "outputs": [],
      "source": [
        "#ordena decrescentemente\n",
        "df_empresas.sort_values('UF', ascending=False)"
      ]
    },
    {
      "cell_type": "code",
      "execution_count": null,
      "metadata": {
        "id": "oYMXid4N1mtF"
      },
      "outputs": [],
      "source": [
        "#As 10 primeiras linhas\n",
        "df_empresas.sort_values('UF').head(10)"
      ]
    },
    {
      "cell_type": "code",
      "execution_count": null,
      "metadata": {
        "id": "FI5uul4O2HuP"
      },
      "outputs": [],
      "source": [
        "#Ordenas por mais de uma coluna\n",
        "df_empresas.sort_values(['UF','Ano'])"
      ]
    },
    {
      "cell_type": "markdown",
      "metadata": {
        "id": "e7yLrQS13VLq"
      },
      "source": [
        "### Filtrando os dados"
      ]
    },
    {
      "cell_type": "markdown",
      "metadata": {
        "id": "2ARSqtmC3ghn"
      },
      "source": [
        "**Filtro de coluna**"
      ]
    },
    {
      "cell_type": "code",
      "execution_count": null,
      "metadata": {
        "id": "Lw2dmiQG3UmQ"
      },
      "outputs": [],
      "source": [
        "df_empresas.UF"
      ]
    },
    {
      "cell_type": "code",
      "execution_count": null,
      "metadata": {
        "id": "hfCpLyHS3s6T"
      },
      "outputs": [],
      "source": [
        "df_empresas['Município']"
      ]
    },
    {
      "cell_type": "code",
      "execution_count": null,
      "metadata": {
        "id": "01Us8vXb3-J-"
      },
      "outputs": [],
      "source": [
        "df_empresas['Descrição CNAE'].unique()"
      ]
    },
    {
      "cell_type": "code",
      "execution_count": null,
      "metadata": {
        "id": "KVlIlDvv4QVH"
      },
      "outputs": [],
      "source": [
        "#Contar valores\n",
        "df_empresas['Município'].value_counts()"
      ]
    },
    {
      "cell_type": "markdown",
      "metadata": {
        "id": "c-zQMcSD4m_3"
      },
      "source": [
        "Para colunas numérias:\n",
        "\n",
        "*  `min()` pega o menor valor\n",
        "*  `max()` pega o maior valor\n",
        "*  `median()` pega a mediana\n",
        "*  `mean()` pega a média\n",
        "*  `mode()` pega o valor mais comum"
      ]
    },
    {
      "cell_type": "code",
      "execution_count": null,
      "metadata": {
        "id": "L5_UxMR24k0H"
      },
      "outputs": [],
      "source": [
        "df_empresas['Nº Trab. cond. analog escravo'].max()"
      ]
    },
    {
      "cell_type": "code",
      "execution_count": null,
      "metadata": {
        "id": "J7tjlM_G7iSM"
      },
      "outputs": [],
      "source": [
        "df_empresas[df_empresas.UF == 'PE']"
      ]
    },
    {
      "cell_type": "markdown",
      "metadata": {
        "id": "OkCEKJks5nc2"
      },
      "source": [
        "**Filtro de linha**"
      ]
    },
    {
      "cell_type": "code",
      "execution_count": null,
      "metadata": {
        "id": "IRqPkCnH5qr-"
      },
      "outputs": [],
      "source": [
        "df_empresas[df_empresas['Nº Trab. cond. analog escravo'] > 10]"
      ]
    },
    {
      "cell_type": "code",
      "execution_count": null,
      "metadata": {
        "id": "7LsI6S9d6Gji"
      },
      "outputs": [],
      "source": [
        "df_empresas[df_empresas.Ano > 2017]"
      ]
    },
    {
      "cell_type": "code",
      "execution_count": null,
      "metadata": {
        "id": "P1bd3ukF6g9y"
      },
      "outputs": [],
      "source": [
        "#Filtros compostos\n",
        "\n",
        "acima_dez_libertos = df_empresas[df_empresas['Nº Trab. cond. analog escravo'] > 10]\n",
        "\n",
        "acima_dez_libertos[df_empresas.Ano > 2017].head()"
      ]
    },
    {
      "cell_type": "markdown",
      "metadata": {
        "id": "cy-n96aD_nwm"
      },
      "source": [
        "### Agrupar e agregar dados"
      ]
    },
    {
      "cell_type": "code",
      "execution_count": null,
      "metadata": {
        "id": "NklFoy1T8zvy"
      },
      "outputs": [],
      "source": [
        "df_empresas.groupby('Ano')"
      ]
    },
    {
      "cell_type": "code",
      "execution_count": null,
      "metadata": {
        "id": "tXmHdj6f9V7-"
      },
      "outputs": [],
      "source": [
        "df_empresas.groupby('Ano').sum()"
      ]
    },
    {
      "cell_type": "code",
      "execution_count": null,
      "metadata": {
        "id": "cjKCTqh39vys"
      },
      "outputs": [],
      "source": [
        "df_empresas[['Ano','Nº Trab. cond. analog escravo']].groupby('Ano').sum().sort_values('Nº Trab. cond. analog escravo', ascending=False)"
      ]
    },
    {
      "cell_type": "markdown",
      "metadata": {
        "id": "jiHaRn618PQA"
      },
      "source": [
        "### Bora Investigar? 🔎🕵🏾‍♀️"
      ]
    },
    {
      "cell_type": "code",
      "execution_count": null,
      "metadata": {
        "id": "9FhBEhT3D2l9"
      },
      "outputs": [],
      "source": [
        "#Total de pessoas em libertas do trabalho escravo de 2010 a 2020\n",
        "df_empresas['Nº Trab. cond. analog escravo'].sum()"
      ]
    },
    {
      "cell_type": "code",
      "execution_count": null,
      "metadata": {
        "id": "Z1xU62GA8GER"
      },
      "outputs": [],
      "source": [
        "#rancking de empresas (CNAE)\n",
        "df_empresas['Descrição CNAE'].value_counts().head(5)"
      ]
    },
    {
      "cell_type": "code",
      "execution_count": null,
      "metadata": {
        "id": "q39pGYa67doj"
      },
      "outputs": [],
      "source": [
        "#Qual os 10 estados com mais operações\n",
        "\n",
        "df_empresas[['UF','Operação']].groupby('UF').sum().sort_values('Operação', ascending=False).head(10)"
      ]
    },
    {
      "cell_type": "code",
      "execution_count": null,
      "metadata": {
        "id": "a9R7HIyW_D7c"
      },
      "outputs": [],
      "source": [
        "#Ano em que mais houve altuação\n",
        "df_empresas[['Ano','Operação']].groupby('Ano').sum().sort_values('Operação', ascending=False)\n"
      ]
    },
    {
      "cell_type": "code",
      "execution_count": null,
      "metadata": {
        "id": "K-XbAAluEWun"
      },
      "outputs": [],
      "source": [
        "#Numero total de pessoas libertas através dos anos por estado\n",
        "df_empresas[['UF','Nº Trab. cond. analog escravo']].groupby('UF').sum().sort_values('Nº Trab. cond. analog escravo', ascending=False)"
      ]
    },
    {
      "cell_type": "code",
      "execution_count": null,
      "metadata": {
        "id": "8u-jPzXFE4Rd"
      },
      "outputs": [],
      "source": [
        "#Qual ano que mais houveram pessoas libertadas\n",
        "df_empresas[['Ano','Nº Trab. cond. analog escravo']].groupby('Ano').sum().sort_values('Nº Trab. cond. analog escravo', ascending=False)"
      ]
    },
    {
      "cell_type": "markdown",
      "metadata": {
        "id": "wsVhE5A7_0pj"
      },
      "source": [
        "### Saaalvandooo 💾"
      ]
    },
    {
      "cell_type": "code",
      "execution_count": null,
      "metadata": {
        "id": "36v7H2LaAMn_"
      },
      "outputs": [],
      "source": [
        "df_empresas.to_csv('meu_arquivo.csv', index=False)"
      ]
    },
    {
      "cell_type": "markdown",
      "metadata": {
        "id": "hzTyBU3c3Pbz"
      },
      "source": [
        "# **MilkShake dos Dados** 🥤"
      ]
    },
    {
      "cell_type": "markdown",
      "metadata": {
        "id": "O2DHNl-T3Pbz"
      },
      "source": [
        "### Agenda"
      ]
    },
    {
      "cell_type": "markdown",
      "metadata": {
        "id": "ZxOWCOxG3Pbz"
      },
      "source": [
        "*  Importar requests (interação com sites e APIs) e querido_diario_toolbox (utilitários do QD)\n",
        "*  Indentificar apenas os CNPJs dentre CNPJs, CEIs e CPFs\n",
        "*  Buscar CNPJs no Querido Diário\n",
        "*  Cruzar nossa base de dados com a da Receita Federal usando o Minha Receita"
      ]
    },
    {
      "cell_type": "markdown",
      "metadata": {
        "id": "mHjubYR33Pb0"
      },
      "source": [
        "### Imports"
      ]
    },
    {
      "cell_type": "code",
      "execution_count": null,
      "metadata": {
        "id": "ioE-jIdx3Pb0"
      },
      "outputs": [],
      "source": [
        "# Se não tiver o querido-diario-toolbox instalado (no Google Colab não tem), execute essa célula\n",
        "!apt-get install libmagic-dev\n",
        "!pip install --ignore-requires-python querido-diario-toolbox"
      ]
    },
    {
      "cell_type": "code",
      "execution_count": null,
      "metadata": {
        "id": "skJk0tjQLr-9"
      },
      "outputs": [],
      "source": [
        "import requests\n",
        "from querido_diario_toolbox.process.edition_process import is_valid_cnpj"
      ]
    },
    {
      "cell_type": "markdown",
      "metadata": {
        "id": "ryOlmy6W3Pb1"
      },
      "source": [
        "### Identificando CNPJs"
      ]
    },
    {
      "cell_type": "code",
      "execution_count": null,
      "metadata": {
        "id": "uwNrhgax3Pb1"
      },
      "outputs": [],
      "source": [
        "df_empresas['CNPJ/CEI/CPF']"
      ]
    },
    {
      "cell_type": "code",
      "execution_count": null,
      "metadata": {
        "id": "pjgHCZTS3Pb1"
      },
      "outputs": [],
      "source": [
        "# Observando o tipo da coluna\n",
        "df_empresas['CNPJ/CEI/CPF'].dtype"
      ]
    },
    {
      "cell_type": "code",
      "execution_count": null,
      "metadata": {
        "id": "aWcmWiPL3Pb1"
      },
      "outputs": [],
      "source": [
        "# A função de checar se é um CNPJ válido pede uma string (ou \"object\", como o pandas gosta de chamar)\n",
        "df_empresas['CNPJ/CEI/CPF'].apply(is_valid_cnpj)"
      ]
    },
    {
      "cell_type": "code",
      "execution_count": null,
      "metadata": {
        "id": "n_yzt06h3Pb2"
      },
      "outputs": [],
      "source": [
        "# Convertendo tipo da coluna\n",
        "df_empresas['CNPJ/CEI/CPF'] = df_empresas['CNPJ/CEI/CPF'].astype('str')\n",
        "df_empresas['CNPJ/CEI/CPF'].apply(is_valid_cnpj)"
      ]
    },
    {
      "cell_type": "code",
      "execution_count": null,
      "metadata": {
        "id": "oWZ4OmIo3Pb2"
      },
      "outputs": [],
      "source": [
        "# Filtrando DataFrame apenas pelas linhas que tem empresas com CNPJ válido\n",
        "df_empresas = df_empresas[df_empresas['CNPJ/CEI/CPF'].apply(is_valid_cnpj)]"
      ]
    },
    {
      "cell_type": "markdown",
      "metadata": {
        "id": "I_E2CiQv3Pb2"
      },
      "source": [
        "### Buscando CNPJs no Querido Diário"
      ]
    },
    {
      "cell_type": "code",
      "execution_count": null,
      "metadata": {
        "id": "cXttfYRe3Pb3"
      },
      "outputs": [],
      "source": [
        "# Selecionando linha específica\n",
        "df_empresas['CNPJ/CEI/CPF'].iloc[20]"
      ]
    },
    {
      "cell_type": "code",
      "execution_count": null,
      "metadata": {
        "id": "Mcx8_hSs3Pb3"
      },
      "outputs": [],
      "source": [
        "# Inserindo código dentro de uma string com f-strings\n",
        "url = f\"https://queridodiario.ok.org.br/api/gazettes/?keywords={df_empresas['CNPJ/CEI/CPF'].iloc[20]}&size=10&fragment_size=1000&pre_tags=@@@&post_tags=@@@\"\n",
        "url"
      ]
    },
    {
      "cell_type": "code",
      "execution_count": null,
      "metadata": {
        "id": "4f5eNush3Pb3"
      },
      "outputs": [],
      "source": [
        "# Com requests, fica fácil fazer requisições para qualquer site na internet e assim podemos interagir com a API do QD\n",
        "response = requests.get(url)\n",
        "response.json()"
      ]
    },
    {
      "cell_type": "code",
      "execution_count": null,
      "metadata": {
        "id": "FY0LwfPn3Pb4"
      },
      "outputs": [],
      "source": [
        "# Repetindo a busca no QD para todos os CNPJs\n",
        "ocorrencias = []\n",
        "for cnpj in df_empresas['CNPJ/CEI/CPF']:\n",
        "    url = f\"https://queridodiario.ok.org.br/api/gazettes/?keywords={cnpj}&size=10&fragment_size=1000\"\n",
        "    response_json = requests.get(url).json()\n",
        "    ocorrencia = {'cnpj': cnpj, 'n_ocorrencias': response_json['total_gazettes']}\n",
        "    ocorrencias.append(ocorrencia)\n",
        "\n",
        "# Criando um DataFrame a partir de uma lista de dicionários (ocorrencias)\n",
        "ocorrencias_por_cnpj = pd.DataFrame(ocorrencias)\n",
        "ocorrencias_por_cnpj"
      ]
    },
    {
      "cell_type": "code",
      "execution_count": null,
      "metadata": {
        "id": "vYRB_axY3Pb5"
      },
      "outputs": [],
      "source": [
        "n_ocorrencias_positivo = ocorrencias_por_cnpj[ocorrencias_por_cnpj['n_ocorrencias'] > 0]\n",
        "n_ocorrencias_positivo"
      ]
    },
    {
      "cell_type": "code",
      "execution_count": null,
      "metadata": {
        "id": "rpFyA3od3Pb7"
      },
      "outputs": [],
      "source": [
        "# Podemos excluir linhas duplicadas\n",
        "n_ocorrencias_positivo = n_ocorrencias_positivo.drop_duplicates()\n",
        "n_ocorrencias_positivo"
      ]
    },
    {
      "cell_type": "code",
      "execution_count": null,
      "metadata": {
        "id": "BAoISYpd3Pb8"
      },
      "outputs": [],
      "source": [
        "# Também podemos visualizar em gráfico!\n",
        "n_ocorrencias_positivo.plot.barh(x='cnpj')"
      ]
    },
    {
      "cell_type": "code",
      "execution_count": null,
      "metadata": {
        "id": "N0SGpzfu3Pb8"
      },
      "outputs": [],
      "source": [
        "n_ocorrencias_positivo['cnpj'].iloc[0]"
      ]
    },
    {
      "cell_type": "markdown",
      "metadata": {
        "id": "gI05auev3Pb9"
      },
      "source": [
        "### Cruzando dados com a RFB usando Minha Receita"
      ]
    },
    {
      "cell_type": "code",
      "execution_count": null,
      "metadata": {
        "id": "sk8NXV0A3Pb9"
      },
      "outputs": [],
      "source": [
        "url = f\"https://minhareceita.org/{n_ocorrencias_positivo['cnpj'].iloc[0]}\"\n",
        "response = requests.get(url)\n",
        "response.json()"
      ]
    },
    {
      "cell_type": "code",
      "execution_count": null,
      "metadata": {
        "id": "qSb8eotB3Pb9"
      },
      "outputs": [],
      "source": [
        "cnpj_infos = []\n",
        "for cnpj in n_ocorrencias_positivo['cnpj']:\n",
        "    url = f\"https://minhareceita.org/{cnpj}\"\n",
        "    response_json = requests.get(url).json()\n",
        "    cnpj_infos.append(response_json)\n",
        "\n",
        "cnpj_infos = pd.DataFrame(cnpj_infos)\n",
        "cnpj_infos"
      ]
    },
    {
      "cell_type": "code",
      "execution_count": null,
      "metadata": {
        "id": "PaVtiIwz3Pb-"
      },
      "outputs": [],
      "source": [
        "# Quando temos colunas com a mesma informação em dois DataFrames, podemos mesclá-los\n",
        "cnpj_infos = n_ocorrencias_positivo.merge(cnpj_infos, left_on='cnpj', right_on='cnpj')\n",
        "cnpj_infos"
      ]
    },
    {
      "cell_type": "code",
      "execution_count": null,
      "metadata": {
        "scrolled": true,
        "id": "ORb91fEk3Pb-"
      },
      "outputs": [],
      "source": [
        "# E isso pode ser repetido até cruzarmos todas as informações que coletamos\n",
        "cnpj_infos.merge(df_empresas, left_on='cnpj', right_on='CNPJ/CEI/CPF')"
      ]
    }
  ],
  "metadata": {
    "colab": {
      "name": "oficina_codabr21.ipynb",
      "provenance": [],
      "include_colab_link": true
    },
    "kernelspec": {
      "display_name": "Python 3 (ipykernel)",
      "language": "python",
      "name": "python3"
    },
    "language_info": {
      "codemirror_mode": {
        "name": "ipython",
        "version": 3
      },
      "file_extension": ".py",
      "mimetype": "text/x-python",
      "name": "python",
      "nbconvert_exporter": "python",
      "pygments_lexer": "ipython3",
      "version": "3.9.7"
    }
  },
  "nbformat": 4,
  "nbformat_minor": 0
}